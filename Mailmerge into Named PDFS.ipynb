{
 "cells": [
  {
   "cell_type": "markdown",
   "metadata": {},
   "source": [
    "<h2>VBA Merge & Naming Macro</h2>"
   ]
  },
  {
   "cell_type": "markdown",
   "metadata": {},
   "source": [
    "<h5>In certain cases, you may need to take excel data and merge it into pdf documents, one problem with mail merge\n",
    "is that the functionality will not allow the individual pdfs to be labeled based on the merged excel data values.\n",
    "By using this VBA macro, you can individually label each file using the excel variables to create the document.</h5>"
   ]
  },
  {
   "cell_type": "code",
   "execution_count": null,
   "metadata": {},
   "outputs": [],
   "source": [
    "Option Explicit\n",
    "\n",
    "Const FOLDER_SAVED As String = \"<Destination file path>\"  #Enter the location of where you want the documents to be saved.\n",
    "Const SOURCE_FILE_PATH As String = \"<Data File Path>\"     #Enter the location of where the excel file is located.\n",
    "\n",
    "Sub <Name of the Macro>()                                 #Enter the name you would live to give the macro\n",
    "Dim MainDoc As Document, TargetDoc As Document\n",
    "Dim dbPath As String\n",
    "Dim recordNumber As Long, totalRecord As Long\n",
    "\n",
    "Set MainDoc = ActiveDocument\n",
    "With MainDoc.MailMerge\n",
    "\n",
    "                                                                            #Name of the worksheet in Excel\n",
    "        .OpenDataSource Name:=SOURCE_FILE_PATH, sqlstatement:=\"SELECT * FROM [<Name of Worksheet>$]\"\n",
    "        \n",
    "        totalRecord = .DataSource.RecordCount\n",
    "\n",
    "        For recordNumber = 1 To totalRecord\n",
    "        \n",
    "            With .DataSource\n",
    "                .ActiveRecord = recordNumber\n",
    "                .FirstRecord = recordNumber\n",
    "                .LastRecord = recordNumber\n",
    "            End With\n",
    "            \n",
    "            .Destination = wdSendToNewDocument\n",
    "            .Execute False\n",
    "            \n",
    "            Set TargetDoc = ActiveDocument\n",
    "                                                               #The naming scheme can be concatenated into multiple variables\n",
    "            TargetDoc.ExportAsFixedFormat FOLDER_SAVED & .DataSource.DataFields(\"<Excel Variable1>\").Value & \".pdf\", exportformat:=wdExportFormatPDF\n",
    "            \n",
    "            TargetDoc.Close False\n",
    "            \n",
    "            Set TargetDoc = Nothing\n",
    "                    \n",
    "        Next recordNumber\n",
    "\n",
    "End With\n",
    "\n",
    "Set MainDoc = Nothing\n",
    "End Sub"
   ]
  }
 ],
 "metadata": {
  "kernelspec": {
   "display_name": "Python 3",
   "language": "python",
   "name": "python3"
  },
  "language_info": {
   "codemirror_mode": {
    "name": "ipython",
    "version": 3
   },
   "file_extension": ".py",
   "mimetype": "text/x-python",
   "name": "python",
   "nbconvert_exporter": "python",
   "pygments_lexer": "ipython3",
   "version": "3.7.6"
  }
 },
 "nbformat": 4,
 "nbformat_minor": 4
}
